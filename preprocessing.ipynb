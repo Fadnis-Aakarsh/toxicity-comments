{
 "cells": [
  {
   "cell_type": "code",
   "execution_count": 1,
   "metadata": {},
   "outputs": [],
   "source": [
    "import pandas as pd\n",
    "from sklearn.model_selection import train_test_split\n",
    "from tqdm import tqdm_notebook\n",
    "import re"
   ]
  },
  {
   "cell_type": "code",
   "execution_count": 2,
   "metadata": {},
   "outputs": [],
   "source": [
    "# prefix = 'kaggle_data/'\n",
    "prefix=\"reddit_data/\""
   ]
  },
  {
   "cell_type": "code",
   "execution_count": 3,
   "metadata": {},
   "outputs": [],
   "source": [
    "def get_all_data(prefix, filename, seperator):\n",
    "    train_df = pd.read_csv(prefix + filename, sep=seperator)\n",
    "    return train_df"
   ]
  },
  {
   "cell_type": "code",
   "execution_count": 4,
   "metadata": {},
   "outputs": [],
   "source": [
    "def convert_training_to_single_label(dataframe):\n",
    "    new = pd.DataFrame()\n",
    "    new_list = []\n",
    "    alpha = 'a'\n",
    "    for (index, id, comment_text, toxic, severe_toxic, obscene, threat, insult, identity_hate) in dataframe.itertuples():\n",
    "        label = toxic == 1 or severe_toxic == 1 or obscene == 1 or threat == 1 or insult == 1 or identity_hate == 1\n",
    "        label = int(label)\n",
    "        new_list.append([id, label, alpha, re.sub(r'\\n', ' ', comment_text)])\n",
    "    new = pd.DataFrame(new_list, columns=['id', 'label', 'alpha', 'text'])\n",
    "    return new"
   ]
  },
  {
   "cell_type": "code",
   "execution_count": 5,
   "metadata": {},
   "outputs": [],
   "source": [
    "def split_and_save(input_dir, data):\n",
    "    train, test = train_test_split(data, test_size=0.2)\n",
    "    dev, test = train_test_split(test, test_size=0.5)\n",
    "    train.to_csv('{0}train.tsv'.format(input_dir), sep='\\t', header=True, index=False)\n",
    "    test.to_csv('{0}test.tsv'.format(input_dir), sep='\\t', header=True, index=False)\n",
    "    dev.to_csv('{0}dev.tsv'.format(input_dir), sep='\\t', header=True, index=False)"
   ]
  },
  {
   "cell_type": "code",
   "execution_count": 6,
   "metadata": {},
   "outputs": [],
   "source": [
    "# all_data = convert_training_to_single_label(train_df)\n",
    "# split_and_save('input/', all_data)"
   ]
  },
  {
   "cell_type": "code",
   "execution_count": 7,
   "metadata": {},
   "outputs": [
    {
     "data": {
      "text/html": [
       "<div>\n",
       "<style scoped>\n",
       "    .dataframe tbody tr th:only-of-type {\n",
       "        vertical-align: middle;\n",
       "    }\n",
       "\n",
       "    .dataframe tbody tr th {\n",
       "        vertical-align: top;\n",
       "    }\n",
       "\n",
       "    .dataframe thead th {\n",
       "        text-align: right;\n",
       "    }\n",
       "</style>\n",
       "<table border=\"1\" class=\"dataframe\">\n",
       "  <thead>\n",
       "    <tr style=\"text-align: right;\">\n",
       "      <th></th>\n",
       "      <th>id</th>\n",
       "      <th>label</th>\n",
       "      <th>alpha</th>\n",
       "      <th>text</th>\n",
       "    </tr>\n",
       "  </thead>\n",
       "  <tbody>\n",
       "    <tr>\n",
       "      <th>0</th>\n",
       "      <td>22259</td>\n",
       "      <td>1</td>\n",
       "      <td>a</td>\n",
       "      <td>you re a dumb bitch here is the reasoning why ...</td>\n",
       "    </tr>\n",
       "    <tr>\n",
       "      <th>1</th>\n",
       "      <td>5208</td>\n",
       "      <td>1</td>\n",
       "      <td>a</td>\n",
       "      <td>this isn t a r the_donald fuck donald trump he...</td>\n",
       "    </tr>\n",
       "    <tr>\n",
       "      <th>2</th>\n",
       "      <td>e93afa5abbcc2e69</td>\n",
       "      <td>0</td>\n",
       "      <td>a</td>\n",
       "      <td>i have also amended the section on tanolis by ...</td>\n",
       "    </tr>\n",
       "    <tr>\n",
       "      <th>3</th>\n",
       "      <td>03cf942c5f2fac57</td>\n",
       "      <td>0</td>\n",
       "      <td>a</td>\n",
       "      <td>intro  this is the intro which was on the palp...</td>\n",
       "    </tr>\n",
       "    <tr>\n",
       "      <th>4</th>\n",
       "      <td>d82a9c4b40aa0acf</td>\n",
       "      <td>0</td>\n",
       "      <td>a</td>\n",
       "      <td>we have sources calling the juggalos a gang. w...</td>\n",
       "    </tr>\n",
       "  </tbody>\n",
       "</table>\n",
       "</div>"
      ],
      "text/plain": [
       "                 id  label alpha  \\\n",
       "0             22259      1     a   \n",
       "1              5208      1     a   \n",
       "2  e93afa5abbcc2e69      0     a   \n",
       "3  03cf942c5f2fac57      0     a   \n",
       "4  d82a9c4b40aa0acf      0     a   \n",
       "\n",
       "                                                text  \n",
       "0  you re a dumb bitch here is the reasoning why ...  \n",
       "1  this isn t a r the_donald fuck donald trump he...  \n",
       "2  i have also amended the section on tanolis by ...  \n",
       "3  intro  this is the intro which was on the palp...  \n",
       "4  we have sources calling the juggalos a gang. w...  "
      ]
     },
     "execution_count": 7,
     "metadata": {},
     "output_type": "execute_result"
    }
   ],
   "source": [
    "train_df = get_all_data(prefix, 'all_data_shuffled_lower.tsv', '\\t')\n",
    "train_df.head()"
   ]
  },
  {
   "cell_type": "code",
   "execution_count": 8,
   "metadata": {},
   "outputs": [],
   "source": [
    "split_and_save('reddit_data/', train_df)"
   ]
  },
  {
   "cell_type": "code",
   "execution_count": null,
   "metadata": {},
   "outputs": [],
   "source": []
  }
 ],
 "metadata": {
  "kernelspec": {
   "display_name": "Python 3",
   "language": "python",
   "name": "python3"
  },
  "language_info": {
   "codemirror_mode": {
    "name": "ipython",
    "version": 3
   },
   "file_extension": ".py",
   "mimetype": "text/x-python",
   "name": "python",
   "nbconvert_exporter": "python",
   "pygments_lexer": "ipython3",
   "version": "3.7.5"
  }
 },
 "nbformat": 4,
 "nbformat_minor": 2
}
