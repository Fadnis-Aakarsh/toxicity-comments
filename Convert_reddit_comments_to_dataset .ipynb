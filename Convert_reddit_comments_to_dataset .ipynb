{
 "cells": [
  {
   "cell_type": "code",
   "execution_count": 25,
   "metadata": {},
   "outputs": [],
   "source": [
    "import pandas as pd\n",
    "import os"
   ]
  },
  {
   "cell_type": "code",
   "execution_count": 30,
   "metadata": {},
   "outputs": [],
   "source": [
    "path_to_data=\"F:\\\\hw\\\\Machine Learning\\\\project\\\\reddit-norm-violations-master\\\\data\\\\macro-norm-violations\"\n",
    "new_path_to_data = \"F:\\\\hw\\\\Machine Learning\\\\project\\\\reddit-norm-violations-master\\\\data\\\\formatted\""
   ]
  },
  {
   "cell_type": "code",
   "execution_count": 48,
   "metadata": {},
   "outputs": [],
   "source": [
    "filelist = os.listdir(path_to_data)\n",
    "def change_format(dataframe,i):\n",
    "    final = pd.DataFrame()\n",
    "    alpha='a'\n",
    "    \n",
    "    label = 1\n",
    "    output = []\n",
    "    for comment in dataframe.itertuples():\n",
    "        output.append([i,label,alpha,comment[1]])\n",
    "        i+=1\n",
    "    final = pd.DataFrame(output, columns = ['id','label','alpha','text'])\n",
    "    return (final,i)"
   ]
  },
  {
   "cell_type": "code",
   "execution_count": 49,
   "metadata": {},
   "outputs": [],
   "source": [
    "i=1\n",
    "for files in filelist:\n",
    "    train_df = pd.read_csv(path_to_data+'\\\\'+files)\n",
    "    final_output,i = change_format(train_df,i)\n",
    "    final_output.to_csv(new_path_to_data+'\\\\'+files.split('.')[0]+'.tsv', sep='\\t', header=True, index=False)\n",
    "    "
   ]
  },
  {
   "cell_type": "code",
   "execution_count": 46,
   "metadata": {},
   "outputs": [],
   "source": []
  },
  {
   "cell_type": "code",
   "execution_count": null,
   "metadata": {},
   "outputs": [],
   "source": []
  }
 ],
 "metadata": {
  "kernelspec": {
   "display_name": "Python 3",
   "language": "python",
   "name": "python3"
  },
  "language_info": {
   "codemirror_mode": {
    "name": "ipython",
    "version": 3
   },
   "file_extension": ".py",
   "mimetype": "text/x-python",
   "name": "python",
   "nbconvert_exporter": "python",
   "pygments_lexer": "ipython3",
   "version": "3.6.5"
  }
 },
 "nbformat": 4,
 "nbformat_minor": 2
}
